{
 "cells": [
  {
   "cell_type": "code",
   "execution_count": 1,
   "metadata": {},
   "outputs": [],
   "source": [
    "import numpy as np\n",
    "import pandas as pd\n",
    "import torch as torch\n",
    "\n"
   ]
  },
  {
   "cell_type": "code",
   "execution_count": 2,
   "metadata": {},
   "outputs": [],
   "source": [
    "time_varying = np.random.randn(100, 10, 450)\n",
    "static = np.random.randn(100, 10)"
   ]
  },
  {
   "cell_type": "code",
   "execution_count": 3,
   "metadata": {},
   "outputs": [],
   "source": [
    "import torch.nn as nn\n",
    "import torch.nn.functional as F\n",
    "from torch import optim\n",
    "from torch.utils.data import DataLoader, random_split\n",
    "from torch.utils.data.distributed import DistributedSampler"
   ]
  },
  {
   "cell_type": "code",
   "execution_count": 4,
   "metadata": {},
   "outputs": [],
   "source": [
    "class Encoder(nn.Module):\n",
    "    \n",
    "    def __init__(self):\n",
    "        \n",
    "        super(Encoder, self).__init__()\n",
    "        \n",
    "        self.static_layer = nn.Linear(10, 50)\n",
    "        \n",
    "        self.conv_layer = nn.Sequential(\n",
    "            nn.Conv1D(10, 30, kernel_size = 2, dilation = 2),\n",
    "            nn.MaxPool1d(2),\n",
    "            nn.ReLU(inplace = True),\n",
    "            nn.Conv1D(30, 30, kernel_size = 2, dilation  = 4),\n",
    "            nn.MaxPool1d(2),\n",
    "            nn.ReLU(inplace = True),\n",
    "            nn.Conv1D(30, 30, kernel_size = 2, dilation = 8),\n",
    "            nn.MaxPool1d(2),\n",
    "            nn.ReLU(inplace = True))\n",
    "        \n",
    "    def forward(self, static, time_varying):\n",
    "        \n",
    "        static_enc = self.static_layer(static)\n",
    "        \n",
    "        time_varying_enc = self.conv_layer(time_varying)\n",
    "        \n",
    "        return torch.cat((static_enc, time_varying_enc), 0)\n",
    "    "
   ]
  },
  {
   "cell_type": "code",
   "execution_count": 12,
   "metadata": {},
   "outputs": [
    {
     "data": {
      "text/plain": [
       "torch.Size([1, 50, 4])"
      ]
     },
     "execution_count": 12,
     "metadata": {},
     "output_type": "execute_result"
    }
   ],
   "source": [
    "c = nn.Conv1d(10, 25, kernel_size = 2, dilation = 2)\n",
    "\n",
    "m = nn.MaxPool1d(4)\n",
    "\n",
    "c2 = nn.Conv1d(25, 50, kernel_size = 2, dilation = 4)\n",
    "\n",
    "c3 = nn.Conv1d(50, 50, kernel_size = 2, dilation = 8)\n",
    "\n",
    "\n",
    "m(c3(m(c2(m(c(torch.tensor(time_varying)[0].float().view(1, 10, 450))))))).shape"
   ]
  },
  {
   "cell_type": "code",
   "execution_count": null,
   "metadata": {},
   "outputs": [],
   "source": []
  }
 ],
 "metadata": {
  "kernelspec": {
   "display_name": "Python 3",
   "language": "python",
   "name": "python3"
  },
  "language_info": {
   "codemirror_mode": {
    "name": "ipython",
    "version": 3
   },
   "file_extension": ".py",
   "mimetype": "text/x-python",
   "name": "python",
   "nbconvert_exporter": "python",
   "pygments_lexer": "ipython3",
   "version": "3.6.12"
  }
 },
 "nbformat": 4,
 "nbformat_minor": 4
}
